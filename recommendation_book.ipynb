{
 "cells": [
  {
   "cell_type": "code",
   "execution_count": 1,
   "id": "6ba73618",
   "metadata": {},
   "outputs": [],
   "source": [
    "#Осторожно - черновик\n",
    "\n",
    "import os, sys\n",
    "import csv\n",
    "import time\n",
    "from pprint import pprint\n",
    "\n",
    "import pandas as pd\n",
    "import numpy as np\n",
    "from scipy import sparse\n",
    "from sklearn.preprocessing import normalize\n",
    "\n",
    "sys.path.append(\"./app/api\")\n",
    "sys.path.append(\"./app/recommendation\")\n",
    "\n",
    "from utils.parse_big_json import extract_json"
   ]
  },
  {
   "cell_type": "code",
   "execution_count": null,
   "id": "1977a95b",
   "metadata": {},
   "outputs": [],
   "source": []
  },
  {
   "cell_type": "code",
   "execution_count": 2,
   "id": "af02d3ec",
   "metadata": {},
   "outputs": [],
   "source": [
    "DATA_SET_PATH = \"./app/recommendation/Dataset/datasets_biblioteki/datasets_2/\""
   ]
  },
  {
   "cell_type": "code",
   "execution_count": 3,
   "id": "543e09e3",
   "metadata": {},
   "outputs": [],
   "source": [
    "def sort_files(file_name):\n",
    "    _id = 0\n",
    "    file_name = os.path.splitext(file_name)[0]\n",
    "    split_name = file_name.split(\"_\")\n",
    "    \n",
    "    if len(split_name) > 1 and split_name[-1].isdigit():\n",
    "        _id = int(split_name[-1])\n",
    "        \n",
    "    return _id"
   ]
  },
  {
   "cell_type": "code",
   "execution_count": 4,
   "id": "c4036eaa",
   "metadata": {},
   "outputs": [],
   "source": [
    "def search_files(prefix, suffix, path: str) -> list[str]:            \n",
    "    files = [file_name for file_name in os.listdir(path) if file_name.startswith(prefix) and file_name.endswith(suffix)]\n",
    "            \n",
    "    files.sort(key=sort_files)\n",
    "    return files"
   ]
  },
  {
   "cell_type": "code",
   "execution_count": 8,
   "id": "5012b124",
   "metadata": {},
   "outputs": [
    {
     "data": {
      "text/html": [
       "<div>\n",
       "<style scoped>\n",
       "    .dataframe tbody tr th:only-of-type {\n",
       "        vertical-align: middle;\n",
       "    }\n",
       "\n",
       "    .dataframe tbody tr th {\n",
       "        vertical-align: top;\n",
       "    }\n",
       "\n",
       "    .dataframe thead th {\n",
       "        text-align: right;\n",
       "    }\n",
       "</style>\n",
       "<table border=\"1\" class=\"dataframe\">\n",
       "  <thead>\n",
       "    <tr style=\"text-align: right;\">\n",
       "      <th></th>\n",
       "      <th>0</th>\n",
       "      <th>1</th>\n",
       "      <th>2</th>\n",
       "    </tr>\n",
       "  </thead>\n",
       "  <tbody>\n",
       "    <tr>\n",
       "      <th>0</th>\n",
       "      <td>366670</td>\n",
       "      <td>14.10.1974</td>\n",
       "      <td>Обручевский, 10</td>\n",
       "    </tr>\n",
       "    <tr>\n",
       "      <th>1</th>\n",
       "      <td>175006</td>\n",
       "      <td>20.03.1978</td>\n",
       "      <td>г. Москва, ул. Саранская, д. 7,</td>\n",
       "    </tr>\n",
       "    <tr>\n",
       "      <th>2</th>\n",
       "      <td>334805</td>\n",
       "      <td>03.12.1985</td>\n",
       "      <td>г. Москва, ул. Ясеневая, д. 12, корп. 1,</td>\n",
       "    </tr>\n",
       "    <tr>\n",
       "      <th>3</th>\n",
       "      <td>364422</td>\n",
       "      <td>15.03.1992</td>\n",
       "      <td>г. Владивосток, ул. Анны Щетининой, д. 20</td>\n",
       "    </tr>\n",
       "    <tr>\n",
       "      <th>4</th>\n",
       "      <td>37574</td>\n",
       "      <td>18.11.1981</td>\n",
       "      <td>г. Москва, ул. Менжинского, д. 28, корп. 2,</td>\n",
       "    </tr>\n",
       "    <tr>\n",
       "      <th>...</th>\n",
       "      <td>...</td>\n",
       "      <td>...</td>\n",
       "      <td>...</td>\n",
       "    </tr>\n",
       "    <tr>\n",
       "      <th>569817</th>\n",
       "      <td>461102</td>\n",
       "      <td>10.02.1978</td>\n",
       "      <td>МО, Совхоз им. Ленина, 25-387</td>\n",
       "    </tr>\n",
       "    <tr>\n",
       "      <th>569818</th>\n",
       "      <td>388950</td>\n",
       "      <td>07.02.1994</td>\n",
       "      <td>г. Москва, ул. Мартеновская, д. 6, корп. 2,</td>\n",
       "    </tr>\n",
       "    <tr>\n",
       "      <th>569819</th>\n",
       "      <td>719163</td>\n",
       "      <td>22.10.2000</td>\n",
       "      <td>Свердловская обл., г. Нижний Тагил, ул. Красно...</td>\n",
       "    </tr>\n",
       "    <tr>\n",
       "      <th>569820</th>\n",
       "      <td>222451</td>\n",
       "      <td>15.05.1983</td>\n",
       "      <td>г. Москва, ул. Базовская, д. 15, корп. 8,</td>\n",
       "    </tr>\n",
       "    <tr>\n",
       "      <th>569821</th>\n",
       "      <td>221823</td>\n",
       "      <td>21.08.1979</td>\n",
       "      <td>г. Москва, ул. Херсонская, д. 19,</td>\n",
       "    </tr>\n",
       "  </tbody>\n",
       "</table>\n",
       "<p>569822 rows × 3 columns</p>\n",
       "</div>"
      ],
      "text/plain": [
       "             0           1                                                  2\n",
       "0       366670  14.10.1974                                    Обручевский, 10\n",
       "1       175006  20.03.1978                   г. Москва, ул. Саранская, д. 7, \n",
       "2       334805  03.12.1985          г. Москва, ул. Ясеневая, д. 12, корп. 1, \n",
       "3       364422  15.03.1992         г. Владивосток, ул. Анны Щетининой, д. 20 \n",
       "4        37574  18.11.1981       г. Москва, ул. Менжинского, д. 28, корп. 2, \n",
       "...        ...         ...                                                ...\n",
       "569817  461102  10.02.1978                      МО, Совхоз им. Ленина, 25-387\n",
       "569818  388950  07.02.1994       г. Москва, ул. Мартеновская, д. 6, корп. 2, \n",
       "569819  719163  22.10.2000  Свердловская обл., г. Нижний Тагил, ул. Красно...\n",
       "569820  222451  15.05.1983         г. Москва, ул. Базовская, д. 15, корп. 8, \n",
       "569821  221823  21.08.1979                 г. Москва, ул. Херсонская, д. 19, \n",
       "\n",
       "[569822 rows x 3 columns]"
      ]
     },
     "execution_count": 8,
     "metadata": {},
     "output_type": "execute_result"
    }
   ],
   "source": [
    "user_df = pd.read_csv(f\"{DATA_SET_PATH}/readers.csv\", delimiter=\";\", low_memory=False, encoding='cp1251', usecols=range(3), header=None)\n",
    "user_df"
   ]
  },
  {
   "cell_type": "code",
   "execution_count": 8,
   "id": "c17a9a64",
   "metadata": {},
   "outputs": [],
   "source": [
    "gen = extract_json(\"./app/recommendation/Dataset/books_full.jsn\")\n",
    "# print(next(gen))"
   ]
  },
  {
   "cell_type": "code",
   "execution_count": 9,
   "id": "ea0b1ad9",
   "metadata": {},
   "outputs": [],
   "source": [
    "from core.deps import get_db\n",
    "from schemas.book import BookCreate\n",
    "from crud.crud_books import books_service"
   ]
  },
  {
   "cell_type": "code",
   "execution_count": 24,
   "id": "da8088a6",
   "metadata": {},
   "outputs": [
    {
     "name": "stdout",
     "output_type": "stream",
     "text": [
      "books:  0\n",
      "rubrics:  0\n",
      "collapse_field:  0\n",
      "collapsed_ref_ids:  0\n"
     ]
    }
   ],
   "source": [
    "# \n",
    "collapse_field = {}\n",
    "collapsed_ref_ids = {}\n",
    "books = []\n",
    "rubrics_map = {}\n",
    "rubrics = []\n",
    "\n",
    "for book in gen:\n",
    "    smart_collapse_field = book.get(\"smart_collapse_field\")\n",
    "    if not smart_collapse_field:\n",
    "        books.append({\n",
    "            \"id\": book[\"id\"],\n",
    "            \"title\": book[\"title\"],\n",
    "            \"author\": book[\"author_fullNameAlt\"],\n",
    "            \"rubric_id\": book[\"rubric_id\"],\n",
    "        })\n",
    "    elif not collapse_field.get(smart_collapse_field):\n",
    "        collapse_field[smart_collapse_field] = book[\"id\"]\n",
    "        books.append({\n",
    "            \"id\": book[\"id\"],\n",
    "            \"title\": book[\"title\"],\n",
    "            \"author\": book[\"author_fullNameAlt\"],\n",
    "            \"rubric_id\": book[\"rubric_id\"],\n",
    "        })\n",
    "        \n",
    "        if book.get(\"rubric_id\"):\n",
    "            if not rubrics_map.get(book[\"rubric_id\"]):\n",
    "                rubrics_map[book[\"rubric_id\"]] = []\n",
    "            rubrics_map[book[\"rubric_id\"]].append(book[\"id\"])\n",
    "        \n",
    "    collapsed_ref_ids[book[\"id\"]] = collapse_field[smart_collapse_field]\n",
    "      \n",
    "print(\"books: \", len(books)) \n",
    "print(\"rubrics: \", len(rubrics)) \n",
    "print(\"collapse_field: \", len(collapse_field)) \n",
    "print(\"collapsed_ref_ids: \", len(collapsed_ref_ids)) "
   ]
  },
  {
   "cell_type": "code",
   "execution_count": 25,
   "id": "1076e890",
   "metadata": {},
   "outputs": [],
   "source": [
    "for _key in rubrics_map:\n",
    "    rubrics.append({\n",
    "        \"id\": _key,\n",
    "        \"books\": rubrics_map[_key]\n",
    "    })"
   ]
  },
  {
   "cell_type": "code",
   "execution_count": 26,
   "id": "d6230283",
   "metadata": {},
   "outputs": [],
   "source": [
    "class CollectionHelper:\n",
    "    def __init__(self, collection: list):\n",
    "        self._collection = collection\n",
    "        self._collection_ref = {}\n",
    "        self._indexes = {}\n",
    "        self.create_indexes()\n",
    "        self.length = len(self._collection)\n",
    "        \n",
    "    def create_indexes(self):\n",
    "        for i, item in enumerate(self._collection):\n",
    "            self._indexes[item[\"id\"]] = i\n",
    "            \n",
    "    def get_index(self, item_id: int) -> int:\n",
    "        return self._indexes.get(item_id)\n",
    "    \n",
    "    def get_book_from_book_id(self, item_id: int) -> dict:\n",
    "        index = self._indexes.get(item_id, None)\n",
    "        if index is not None:\n",
    "            return self._collection[index]\n",
    "        \n",
    "        return None\n",
    "    \n",
    "    def get_book_from_index(self, index: int) -> dict:\n",
    "        if len(self._collection) - 1 > index:\n",
    "            return self._collection[index]\n",
    "    \n",
    "books_helper = CollectionHelper(books)\n",
    "rubrics_helper = CollectionHelper(rubrics)"
   ]
  },
  {
   "cell_type": "code",
   "execution_count": 27,
   "id": "5649192d",
   "metadata": {},
   "outputs": [
    {
     "ename": "NameError",
     "evalue": "name 'BASE_PATH' is not defined",
     "output_type": "error",
     "traceback": [
      "\u001b[0;31m---------------------------------------------------------------------------\u001b[0m",
      "\u001b[0;31mNameError\u001b[0m                                 Traceback (most recent call last)",
      "\u001b[0;32m/tmp/ipykernel_2680364/483619448.py\u001b[0m in \u001b[0;36m<module>\u001b[0;34m\u001b[0m\n\u001b[1;32m      1\u001b[0m \u001b[0mcirculation_files\u001b[0m \u001b[0;34m=\u001b[0m \u001b[0msearch_files\u001b[0m\u001b[0;34m(\u001b[0m\u001b[0;34m\"circulaton\"\u001b[0m\u001b[0;34m,\u001b[0m \u001b[0;34m\"csv\"\u001b[0m\u001b[0;34m,\u001b[0m \u001b[0mDATA_SET_PATH\u001b[0m\u001b[0;34m)\u001b[0m\u001b[0;34m\u001b[0m\u001b[0;34m\u001b[0m\u001b[0m\n\u001b[0;32m----> 2\u001b[0;31m \u001b[0mcirculation_data_set\u001b[0m \u001b[0;34m=\u001b[0m \u001b[0mpd\u001b[0m\u001b[0;34m.\u001b[0m\u001b[0mconcat\u001b[0m\u001b[0;34m(\u001b[0m\u001b[0;34m(\u001b[0m\u001b[0mdata_set\u001b[0m \u001b[0;32mfor\u001b[0m \u001b[0mdata_set\u001b[0m \u001b[0;32min\u001b[0m \u001b[0mmap\u001b[0m\u001b[0;34m(\u001b[0m\u001b[0;32mlambda\u001b[0m \u001b[0mf\u001b[0m\u001b[0;34m:\u001b[0m \u001b[0mpd\u001b[0m\u001b[0;34m.\u001b[0m\u001b[0mread_csv\u001b[0m\u001b[0;34m(\u001b[0m\u001b[0;34mf\"{BASE_PATH}/{f}\"\u001b[0m\u001b[0;34m,\u001b[0m \u001b[0mdelimiter\u001b[0m\u001b[0;34m=\u001b[0m\u001b[0;34m\";\"\u001b[0m\u001b[0;34m,\u001b[0m \u001b[0mlow_memory\u001b[0m\u001b[0;34m=\u001b[0m\u001b[0;32mFalse\u001b[0m\u001b[0;34m,\u001b[0m \u001b[0mencoding\u001b[0m\u001b[0;34m=\u001b[0m\u001b[0;34m'cp1251'\u001b[0m\u001b[0;34m,\u001b[0m \u001b[0musecols\u001b[0m\u001b[0;34m=\u001b[0m\u001b[0mrange\u001b[0m\u001b[0;34m(\u001b[0m\u001b[0;36m8\u001b[0m\u001b[0;34m)\u001b[0m\u001b[0;34m)\u001b[0m\u001b[0;34m,\u001b[0m \u001b[0mcirculation_files\u001b[0m\u001b[0;34m)\u001b[0m\u001b[0;34m)\u001b[0m\u001b[0;34m)\u001b[0m\u001b[0;34m\u001b[0m\u001b[0;34m\u001b[0m\u001b[0m\n\u001b[0m",
      "\u001b[0;32m/run/media/dmitry/dev/works/contest/03. Рекомендательная система для пользователей московских библиотек/library_recommendation/venv/lib/python3.9/site-packages/pandas/util/_decorators.py\u001b[0m in \u001b[0;36mwrapper\u001b[0;34m(*args, **kwargs)\u001b[0m\n\u001b[1;32m    309\u001b[0m                     \u001b[0mstacklevel\u001b[0m\u001b[0;34m=\u001b[0m\u001b[0mstacklevel\u001b[0m\u001b[0;34m,\u001b[0m\u001b[0;34m\u001b[0m\u001b[0;34m\u001b[0m\u001b[0m\n\u001b[1;32m    310\u001b[0m                 )\n\u001b[0;32m--> 311\u001b[0;31m             \u001b[0;32mreturn\u001b[0m \u001b[0mfunc\u001b[0m\u001b[0;34m(\u001b[0m\u001b[0;34m*\u001b[0m\u001b[0margs\u001b[0m\u001b[0;34m,\u001b[0m \u001b[0;34m**\u001b[0m\u001b[0mkwargs\u001b[0m\u001b[0;34m)\u001b[0m\u001b[0;34m\u001b[0m\u001b[0;34m\u001b[0m\u001b[0m\n\u001b[0m\u001b[1;32m    312\u001b[0m \u001b[0;34m\u001b[0m\u001b[0m\n\u001b[1;32m    313\u001b[0m         \u001b[0;32mreturn\u001b[0m \u001b[0mwrapper\u001b[0m\u001b[0;34m\u001b[0m\u001b[0;34m\u001b[0m\u001b[0m\n",
      "\u001b[0;32m/run/media/dmitry/dev/works/contest/03. Рекомендательная система для пользователей московских библиотек/library_recommendation/venv/lib/python3.9/site-packages/pandas/core/reshape/concat.py\u001b[0m in \u001b[0;36mconcat\u001b[0;34m(objs, axis, join, ignore_index, keys, levels, names, verify_integrity, sort, copy)\u001b[0m\n\u001b[1;32m    292\u001b[0m     \u001b[0mValueError\u001b[0m\u001b[0;34m:\u001b[0m \u001b[0mIndexes\u001b[0m \u001b[0mhave\u001b[0m \u001b[0moverlapping\u001b[0m \u001b[0mvalues\u001b[0m\u001b[0;34m:\u001b[0m \u001b[0;34m[\u001b[0m\u001b[0;34m'a'\u001b[0m\u001b[0;34m]\u001b[0m\u001b[0;34m\u001b[0m\u001b[0;34m\u001b[0m\u001b[0m\n\u001b[1;32m    293\u001b[0m     \"\"\"\n\u001b[0;32m--> 294\u001b[0;31m     op = _Concatenator(\n\u001b[0m\u001b[1;32m    295\u001b[0m         \u001b[0mobjs\u001b[0m\u001b[0;34m,\u001b[0m\u001b[0;34m\u001b[0m\u001b[0;34m\u001b[0m\u001b[0m\n\u001b[1;32m    296\u001b[0m         \u001b[0maxis\u001b[0m\u001b[0;34m=\u001b[0m\u001b[0maxis\u001b[0m\u001b[0;34m,\u001b[0m\u001b[0;34m\u001b[0m\u001b[0;34m\u001b[0m\u001b[0m\n",
      "\u001b[0;32m/run/media/dmitry/dev/works/contest/03. Рекомендательная система для пользователей московских библиотек/library_recommendation/venv/lib/python3.9/site-packages/pandas/core/reshape/concat.py\u001b[0m in \u001b[0;36m__init__\u001b[0;34m(self, objs, axis, join, keys, levels, names, ignore_index, verify_integrity, copy, sort)\u001b[0m\n\u001b[1;32m    346\u001b[0m             \u001b[0mobjs\u001b[0m \u001b[0;34m=\u001b[0m \u001b[0;34m[\u001b[0m\u001b[0mobjs\u001b[0m\u001b[0;34m[\u001b[0m\u001b[0mk\u001b[0m\u001b[0;34m]\u001b[0m \u001b[0;32mfor\u001b[0m \u001b[0mk\u001b[0m \u001b[0;32min\u001b[0m \u001b[0mkeys\u001b[0m\u001b[0;34m]\u001b[0m\u001b[0;34m\u001b[0m\u001b[0;34m\u001b[0m\u001b[0m\n\u001b[1;32m    347\u001b[0m         \u001b[0;32melse\u001b[0m\u001b[0;34m:\u001b[0m\u001b[0;34m\u001b[0m\u001b[0;34m\u001b[0m\u001b[0m\n\u001b[0;32m--> 348\u001b[0;31m             \u001b[0mobjs\u001b[0m \u001b[0;34m=\u001b[0m \u001b[0mlist\u001b[0m\u001b[0;34m(\u001b[0m\u001b[0mobjs\u001b[0m\u001b[0;34m)\u001b[0m\u001b[0;34m\u001b[0m\u001b[0;34m\u001b[0m\u001b[0m\n\u001b[0m\u001b[1;32m    349\u001b[0m \u001b[0;34m\u001b[0m\u001b[0m\n\u001b[1;32m    350\u001b[0m         \u001b[0;32mif\u001b[0m \u001b[0mlen\u001b[0m\u001b[0;34m(\u001b[0m\u001b[0mobjs\u001b[0m\u001b[0;34m)\u001b[0m \u001b[0;34m==\u001b[0m \u001b[0;36m0\u001b[0m\u001b[0;34m:\u001b[0m\u001b[0;34m\u001b[0m\u001b[0;34m\u001b[0m\u001b[0m\n",
      "\u001b[0;32m/tmp/ipykernel_2680364/483619448.py\u001b[0m in \u001b[0;36m<genexpr>\u001b[0;34m(.0)\u001b[0m\n\u001b[1;32m      1\u001b[0m \u001b[0mcirculation_files\u001b[0m \u001b[0;34m=\u001b[0m \u001b[0msearch_files\u001b[0m\u001b[0;34m(\u001b[0m\u001b[0;34m\"circulaton\"\u001b[0m\u001b[0;34m,\u001b[0m \u001b[0;34m\"csv\"\u001b[0m\u001b[0;34m,\u001b[0m \u001b[0mDATA_SET_PATH\u001b[0m\u001b[0;34m)\u001b[0m\u001b[0;34m\u001b[0m\u001b[0;34m\u001b[0m\u001b[0m\n\u001b[0;32m----> 2\u001b[0;31m \u001b[0mcirculation_data_set\u001b[0m \u001b[0;34m=\u001b[0m \u001b[0mpd\u001b[0m\u001b[0;34m.\u001b[0m\u001b[0mconcat\u001b[0m\u001b[0;34m(\u001b[0m\u001b[0;34m(\u001b[0m\u001b[0mdata_set\u001b[0m \u001b[0;32mfor\u001b[0m \u001b[0mdata_set\u001b[0m \u001b[0;32min\u001b[0m \u001b[0mmap\u001b[0m\u001b[0;34m(\u001b[0m\u001b[0;32mlambda\u001b[0m \u001b[0mf\u001b[0m\u001b[0;34m:\u001b[0m \u001b[0mpd\u001b[0m\u001b[0;34m.\u001b[0m\u001b[0mread_csv\u001b[0m\u001b[0;34m(\u001b[0m\u001b[0;34mf\"{BASE_PATH}/{f}\"\u001b[0m\u001b[0;34m,\u001b[0m \u001b[0mdelimiter\u001b[0m\u001b[0;34m=\u001b[0m\u001b[0;34m\";\"\u001b[0m\u001b[0;34m,\u001b[0m \u001b[0mlow_memory\u001b[0m\u001b[0;34m=\u001b[0m\u001b[0;32mFalse\u001b[0m\u001b[0;34m,\u001b[0m \u001b[0mencoding\u001b[0m\u001b[0;34m=\u001b[0m\u001b[0;34m'cp1251'\u001b[0m\u001b[0;34m,\u001b[0m \u001b[0musecols\u001b[0m\u001b[0;34m=\u001b[0m\u001b[0mrange\u001b[0m\u001b[0;34m(\u001b[0m\u001b[0;36m8\u001b[0m\u001b[0;34m)\u001b[0m\u001b[0;34m)\u001b[0m\u001b[0;34m,\u001b[0m \u001b[0mcirculation_files\u001b[0m\u001b[0;34m)\u001b[0m\u001b[0;34m)\u001b[0m\u001b[0;34m)\u001b[0m\u001b[0;34m\u001b[0m\u001b[0;34m\u001b[0m\u001b[0m\n\u001b[0m",
      "\u001b[0;32m/tmp/ipykernel_2680364/483619448.py\u001b[0m in \u001b[0;36m<lambda>\u001b[0;34m(f)\u001b[0m\n\u001b[1;32m      1\u001b[0m \u001b[0mcirculation_files\u001b[0m \u001b[0;34m=\u001b[0m \u001b[0msearch_files\u001b[0m\u001b[0;34m(\u001b[0m\u001b[0;34m\"circulaton\"\u001b[0m\u001b[0;34m,\u001b[0m \u001b[0;34m\"csv\"\u001b[0m\u001b[0;34m,\u001b[0m \u001b[0mDATA_SET_PATH\u001b[0m\u001b[0;34m)\u001b[0m\u001b[0;34m\u001b[0m\u001b[0;34m\u001b[0m\u001b[0m\n\u001b[0;32m----> 2\u001b[0;31m \u001b[0mcirculation_data_set\u001b[0m \u001b[0;34m=\u001b[0m \u001b[0mpd\u001b[0m\u001b[0;34m.\u001b[0m\u001b[0mconcat\u001b[0m\u001b[0;34m(\u001b[0m\u001b[0;34m(\u001b[0m\u001b[0mdata_set\u001b[0m \u001b[0;32mfor\u001b[0m \u001b[0mdata_set\u001b[0m \u001b[0;32min\u001b[0m \u001b[0mmap\u001b[0m\u001b[0;34m(\u001b[0m\u001b[0;32mlambda\u001b[0m \u001b[0mf\u001b[0m\u001b[0;34m:\u001b[0m \u001b[0mpd\u001b[0m\u001b[0;34m.\u001b[0m\u001b[0mread_csv\u001b[0m\u001b[0;34m(\u001b[0m\u001b[0;34mf\"{BASE_PATH}/{f}\"\u001b[0m\u001b[0;34m,\u001b[0m \u001b[0mdelimiter\u001b[0m\u001b[0;34m=\u001b[0m\u001b[0;34m\";\"\u001b[0m\u001b[0;34m,\u001b[0m \u001b[0mlow_memory\u001b[0m\u001b[0;34m=\u001b[0m\u001b[0;32mFalse\u001b[0m\u001b[0;34m,\u001b[0m \u001b[0mencoding\u001b[0m\u001b[0;34m=\u001b[0m\u001b[0;34m'cp1251'\u001b[0m\u001b[0;34m,\u001b[0m \u001b[0musecols\u001b[0m\u001b[0;34m=\u001b[0m\u001b[0mrange\u001b[0m\u001b[0;34m(\u001b[0m\u001b[0;36m8\u001b[0m\u001b[0;34m)\u001b[0m\u001b[0;34m)\u001b[0m\u001b[0;34m,\u001b[0m \u001b[0mcirculation_files\u001b[0m\u001b[0;34m)\u001b[0m\u001b[0;34m)\u001b[0m\u001b[0;34m)\u001b[0m\u001b[0;34m\u001b[0m\u001b[0;34m\u001b[0m\u001b[0m\n\u001b[0m",
      "\u001b[0;31mNameError\u001b[0m: name 'BASE_PATH' is not defined"
     ]
    }
   ],
   "source": [
    "circulation_files = search_files(\"circulaton\", \"csv\", DATA_SET_PATH)\n",
    "circulation_data_set = pd.concat((data_set for data_set in map(lambda f: pd.read_csv(f\"{BASE_PATH}/{f}\", delimiter=\";\", low_memory=False, encoding='cp1251', usecols=range(8)), circulation_files)))"
   ]
  },
  {
   "cell_type": "code",
   "execution_count": 17,
   "id": "d0dcdfbc",
   "metadata": {},
   "outputs": [],
   "source": [
    "import json\n",
    "with open(\"./app/recommendation/data/books.json\", \"w\") as f:\n",
    "    f.write(json.dumps(books))\n",
    "    \n",
    "with open(\"./app/recommendation/data/rubrics.json\", \"w\") as f:\n",
    "    f.write(json.dumps(rubrics))\n",
    "    \n",
    "with open(\"./app/recommendation/data/collapse_field.json\", \"w\") as f:\n",
    "    f.write(json.dumps(collapse_field))\n",
    "    \n",
    "with open(\"./app/recommendation/data/collapsed_ref_ids.json\", \"w\") as f:\n",
    "    f.write(json.dumps(collapsed_ref_ids))"
   ]
  },
  {
   "cell_type": "code",
   "execution_count": 23,
   "id": "f37fb281",
   "metadata": {},
   "outputs": [
    {
     "name": "stdout",
     "output_type": "stream",
     "text": [
      ">>>  505628\n",
      ">>>  1190431\n",
      ">>>  455012\n",
      ">>>  1594092\n",
      ">>>  247554\n",
      ">>>  439242\n",
      ">>>  264189\n",
      ">>>  363371\n"
     ]
    }
   ],
   "source": [
    "circulation_files = search_files(\"circulaton\", \"csv\", DATA_SET_PATH)\n",
    "# circulation_data_set = pd.concat((data_set for data_set in map(lambda f: pd.read_csv(f\"{BASE_PATH}/{f}\", delimiter=\";\", low_memory=False, encoding='cp1251', usecols=range(8)), circulation_files)))\n",
    "\n",
    "users_read_map = {}\n",
    "users_read_book_map = {}\n",
    "users_associated = {}\n",
    "\n",
    "\n",
    "for f in circulation_files:\n",
    "    dataset = pd.read_csv(f\"{DATA_SET_PATH}/{f}\", delimiter=\";\", low_memory=False, encoding='cp1251', usecols=range(8))\n",
    "\n",
    "    for i, data_row in enumerate(dataset.values):\n",
    "        if not users_read_map.get(data_row[5]):\n",
    "            users_read_map[data_row[5]] = []\n",
    "            users_read_book_map[data_row[5]] = set()\n",
    "            \n",
    "        if data_row[1] in users_read_book_map[data_row[5]]:\n",
    "            continue\n",
    "            \n",
    "        users_read_book_map[data_row[5]].add(data_row[1])\n",
    "        \n",
    "        book_id = collapsed_ref_ids.get(data_row[1])\n",
    "        if data_row[5] == 582236:\n",
    "            print(\">>> \", data_row[1])\n",
    "            \n",
    "        if book_id:\n",
    "            users_read_map[data_row[5]].append(book_id)  \n",
    "        \n",
    "for idx, user_id in enumerate(users_read_map):\n",
    "    users_associated[idx] = user_id\n",
    "    \n"
   ]
  },
  {
   "cell_type": "code",
   "execution_count": null,
   "id": "8ea7a19b",
   "metadata": {},
   "outputs": [],
   "source": [
    "books_helper.get"
   ]
  },
  {
   "cell_type": "code",
   "execution_count": 20,
   "id": "ce182308",
   "metadata": {},
   "outputs": [
    {
     "name": "stdout",
     "output_type": "stream",
     "text": [
      "[505628, 505628, 505628, 1190431, 1190431, 1197833, 1884042, 1692399, 1712782, 264189, 1597791, 1597791, 1597791]\n"
     ]
    }
   ],
   "source": [
    "user_id_search = 582236\n",
    "print(users_read_map[user_id_search])"
   ]
  },
  {
   "cell_type": "code",
   "execution_count": 11,
   "id": "72d4da5c",
   "metadata": {},
   "outputs": [],
   "source": [
    "from collections import defaultdict\n",
    "\n",
    "counter = defaultdict(int)\n",
    "\n",
    "for user_id in users_read_map:\n",
    "    for book_id in users_read_map[user_id]:\n",
    "        counter[book_id] += 1"
   ]
  },
  {
   "cell_type": "code",
   "execution_count": 40,
   "id": "478365c8",
   "metadata": {},
   "outputs": [
    {
     "name": "stdout",
     "output_type": "stream",
     "text": [
      "15944\n"
     ]
    }
   ],
   "source": [
    "books_keys = list(counter.keys())\n",
    "books_keys.sort(key=lambda x: counter[x], reverse=True)\n",
    "\n",
    "print(counter[books_keys[0]])"
   ]
  },
  {
   "cell_type": "code",
   "execution_count": null,
   "id": "18ba542f",
   "metadata": {},
   "outputs": [],
   "source": []
  },
  {
   "cell_type": "code",
   "execution_count": null,
   "id": "ca5351f1",
   "metadata": {},
   "outputs": [],
   "source": []
  },
  {
   "cell_type": "code",
   "execution_count": 12,
   "id": "f371b12b",
   "metadata": {},
   "outputs": [],
   "source": [
    "def make_coo_row(read_books: list, books_indexes_helper: CollectionHelper):\n",
    "    idx = []\n",
    "    values = []\n",
    "    \n",
    "    items = []\n",
    "    \n",
    "    for book_id in read_books:\n",
    "        book = books_indexes_helper.get_book_from_book_id(book_id)\n",
    "        if not book: \n",
    "            continue\n",
    "        idx.append(books_indexes_helper.get_index(book[\"id\"]))\n",
    "        values.append(1.0)\n",
    "        \n",
    "    return sparse.coo_matrix(\n",
    "        (np.array(values).astype(np.float32), ([0] * len(idx), idx)), shape=(1, books_indexes_helper.length)\n",
    "    )\n",
    "            \n",
    "    "
   ]
  },
  {
   "cell_type": "code",
   "execution_count": 13,
   "id": "8d833a14",
   "metadata": {},
   "outputs": [],
   "source": [
    "rows = []\n",
    "for user_id in users_read_map:\n",
    "    rows.append(make_coo_row(users_read_map[user_id], books_helper))"
   ]
  },
  {
   "cell_type": "code",
   "execution_count": 15,
   "id": "19226704",
   "metadata": {},
   "outputs": [],
   "source": [
    "X_sparse = sparse.vstack(rows).tocsr()"
   ]
  },
  {
   "cell_type": "code",
   "execution_count": 14,
   "id": "f9b4f1bb",
   "metadata": {},
   "outputs": [
    {
     "data": {
      "text/plain": [
       "(548426, 1595278)"
      ]
     },
     "execution_count": 14,
     "metadata": {},
     "output_type": "execute_result"
    }
   ],
   "source": [
    "X_sparse.shape\n",
    "# del(rows)"
   ]
  },
  {
   "cell_type": "code",
   "execution_count": 28,
   "id": "9f954a04",
   "metadata": {},
   "outputs": [
    {
     "name": "stdout",
     "output_type": "stream",
     "text": [
      "0.0 \n",
      "12.0   (0, 23607)\t2.0\n",
      "  (0, 41154)\t1.0\n",
      "  (0, 55763)\t1.0\n",
      "  (0, 113637)\t1.0\n",
      "  (0, 156855)\t1.0\n",
      "  (0, 159173)\t1.0\n",
      "  (0, 164314)\t1.0\n",
      "  (0, 195574)\t1.0\n",
      "  (0, 354112)\t3.0\n",
      "0.0 \n",
      "0.0 \n",
      "1.0   (0, 130882)\t1.0\n",
      "3.0   (0, 153735)\t1.0\n",
      "  (0, 310354)\t1.0\n",
      "  (0, 450317)\t1.0\n",
      "0.0 \n",
      "0.0 \n",
      "144.0   (0, 1306)\t2.0\n",
      "  (0, 1497)\t1.0\n",
      "  (0, 4532)\t1.0\n",
      "  (0, 11825)\t1.0\n",
      "  (0, 14098)\t2.0\n",
      "  (0, 14784)\t1.0\n",
      "  (0, 17782)\t1.0\n",
      "  (0, 19703)\t1.0\n",
      "  (0, 21864)\t1.0\n",
      "  (0, 25212)\t1.0\n",
      "  (0, 37128)\t3.0\n",
      "  (0, 42265)\t2.0\n",
      "  (0, 53069)\t1.0\n",
      "  (0, 101827)\t1.0\n",
      "  (0, 112165)\t2.0\n",
      "  (0, 114267)\t1.0\n",
      "  (0, 141910)\t1.0\n",
      "  (0, 156511)\t2.0\n",
      "  (0, 158579)\t1.0\n",
      "  (0, 174656)\t1.0\n",
      "  (0, 176614)\t1.0\n",
      "  (0, 183471)\t1.0\n",
      "  (0, 184051)\t1.0\n",
      "  (0, 188558)\t2.0\n",
      "  (0, 188743)\t4.0\n",
      "  :\t:\n",
      "  (0, 362666)\t1.0\n",
      "  (0, 362704)\t1.0\n",
      "  (0, 364537)\t1.0\n",
      "  (0, 370785)\t1.0\n",
      "  (0, 370786)\t1.0\n",
      "  (0, 374066)\t2.0\n",
      "  (0, 375812)\t1.0\n",
      "  (0, 379130)\t1.0\n",
      "  (0, 380087)\t1.0\n",
      "  (0, 385535)\t1.0\n",
      "  (0, 385540)\t1.0\n",
      "  (0, 385546)\t1.0\n",
      "  (0, 385765)\t1.0\n",
      "  (0, 401236)\t1.0\n",
      "  (0, 402424)\t2.0\n",
      "  (0, 402839)\t1.0\n",
      "  (0, 405238)\t1.0\n",
      "  (0, 405240)\t1.0\n",
      "  (0, 407530)\t1.0\n",
      "  (0, 419452)\t1.0\n",
      "  (0, 428790)\t1.0\n",
      "  (0, 435292)\t1.0\n",
      "  (0, 443606)\t1.0\n",
      "  (0, 479256)\t1.0\n",
      "  (0, 480509)\t1.0\n",
      "0.0 \n",
      "1.0   (0, 250085)\t1.0\n",
      "0.0 \n"
     ]
    }
   ],
   "source": [
    "for i, row in enumerate(X_sparse.T):\n",
    "    print(row.sum(), row.tocsr())\n",
    "    if i > 10:\n",
    "        break"
   ]
  },
  {
   "cell_type": "code",
   "execution_count": 16,
   "id": "9cb77e88",
   "metadata": {},
   "outputs": [],
   "source": []
  },
  {
   "cell_type": "code",
   "execution_count": 8,
   "id": "5f9c9ed7",
   "metadata": {},
   "outputs": [
    {
     "ename": "NameError",
     "evalue": "name 'X_sparse' is not defined",
     "output_type": "error",
     "traceback": [
      "\u001b[0;31m---------------------------------------------------------------------------\u001b[0m",
      "\u001b[0;31mNameError\u001b[0m                                 Traceback (most recent call last)",
      "\u001b[0;32m/tmp/ipykernel_17012/3894097584.py\u001b[0m in \u001b[0;36m<module>\u001b[0;34m\u001b[0m\n\u001b[0;32m----> 1\u001b[0;31m \u001b[0mX_sparse_transposed\u001b[0m \u001b[0;34m=\u001b[0m \u001b[0mX_sparse\u001b[0m\u001b[0;34m.\u001b[0m\u001b[0mtranspose\u001b[0m\u001b[0;34m(\u001b[0m\u001b[0mcopy\u001b[0m\u001b[0;34m=\u001b[0m\u001b[0;32mFalse\u001b[0m\u001b[0;34m)\u001b[0m\u001b[0;34m\u001b[0m\u001b[0;34m\u001b[0m\u001b[0m\n\u001b[0m\u001b[1;32m      2\u001b[0m \u001b[0;31m# sim2 = X_sparse * X_sparse_transposed\u001b[0m\u001b[0;34m\u001b[0m\u001b[0;34m\u001b[0m\u001b[0m\n\u001b[1;32m      3\u001b[0m \u001b[0mprint\u001b[0m\u001b[0;34m(\u001b[0m\u001b[0mX_sparse_transposed\u001b[0m\u001b[0;34m.\u001b[0m\u001b[0mshape\u001b[0m\u001b[0;34m)\u001b[0m\u001b[0;34m\u001b[0m\u001b[0;34m\u001b[0m\u001b[0m\n",
      "\u001b[0;31mNameError\u001b[0m: name 'X_sparse' is not defined"
     ]
    }
   ],
   "source": [
    "X_sparse_transposed = X_sparse.transpose(copy=False)\n",
    "# sim2 = X_sparse * X_sparse_transposed\n",
    "print(X_sparse_transposed.shape)"
   ]
  },
  {
   "cell_type": "code",
   "execution_count": 51,
   "id": "f76cc40c",
   "metadata": {},
   "outputs": [],
   "source": [
    "# fit = sim2 * X_sparse\n",
    "# del(sim2)\n",
    "# del(X_sparse_transposed)"
   ]
  },
  {
   "cell_type": "code",
   "execution_count": 55,
   "id": "1570830e",
   "metadata": {},
   "outputs": [],
   "source": [
    "format_book = lambda b: f\"{b['title']}, {b['autor']}\""
   ]
  },
  {
   "cell_type": "code",
   "execution_count": 23,
   "id": "c550e5ea",
   "metadata": {},
   "outputs": [],
   "source": [
    "# item to item\n",
    "\n",
    "# print(format_book(catalog_map[111000]))\n",
    "# pprint([f\"{format_book(catalog_map[catalog_associated[i + 1]])}, {catalog_associated[i + 1]}\" for i in sim[7714].toarray().argsort()[0][-20:]])\n",
    "\n",
    "def valid_result(book_id: int, tail: int = 20) -> int:\n",
    "    t = time.time()\n",
    "    book_target = catalog_map[book_id]\n",
    "    print()\n",
    "    print(format_book(book_target))\n",
    "    result = sim[book_target[\"idx\"]].toarray().argsort()[0][-20:]\n",
    "#     print(result)\n",
    "    for col_id in result:\n",
    "        i = col_id\n",
    "        associated = catalog_associated[i]\n",
    "        print(f\"    {associated}: {format_book(catalog_map[associated])}\")\n",
    "        \n",
    "    return time.time() - t\n",
    "\n",
    "def test():\n",
    "    ids = [499858]\n",
    "    for _id in ids:\n",
    "        valid_result(_id)\n",
    "        \n",
    "# test()"
   ]
  },
  {
   "cell_type": "code",
   "execution_count": 17,
   "id": "fba7b6b2",
   "metadata": {},
   "outputs": [],
   "source": [
    "from sklearn.decomposition import TruncatedSVD\n",
    "\n",
    "n_colls = 500"
   ]
  },
  {
   "cell_type": "code",
   "execution_count": 26,
   "id": "d8c73616",
   "metadata": {},
   "outputs": [],
   "source": [
    "svd = TruncatedSVD(n_components=n_colls)\n",
    "X_dense = svd.fit_transform(X_sparse)"
   ]
  },
  {
   "cell_type": "code",
   "execution_count": 27,
   "id": "e5d53afb",
   "metadata": {},
   "outputs": [
    {
     "name": "stdout",
     "output_type": "stream",
     "text": [
      "(548426, 1595278)\n",
      "(548426, 500)\n"
     ]
    }
   ],
   "source": [
    "print(X_sparse.shape)\n",
    "print(X_dense.shape)"
   ]
  },
  {
   "cell_type": "code",
   "execution_count": 33,
   "id": "053d11f7",
   "metadata": {},
   "outputs": [
    {
     "data": {
      "text/plain": [
       "<1x1595278 sparse matrix of type '<class 'numpy.float32'>'\n",
       "\twith 1 stored elements in Compressed Sparse Row format>"
      ]
     },
     "execution_count": 33,
     "metadata": {},
     "output_type": "execute_result"
    }
   ],
   "source": [
    "X_sparse.getrow(548425)"
   ]
  },
  {
   "cell_type": "code",
   "execution_count": 26,
   "id": "57ba235b",
   "metadata": {},
   "outputs": [
    {
     "data": {
      "text/plain": [
       "NearestNeighbors(metric='cosine', n_jobs=1, n_neighbors=500)"
      ]
     },
     "execution_count": 26,
     "metadata": {},
     "output_type": "execute_result"
    }
   ],
   "source": [
    "# knn\n",
    "from sklearn.neighbors import NearestNeighbors\n",
    "\n",
    "knn = NearestNeighbors(n_neighbors=n_colls, metric=\"cosine\", n_jobs=-1)\n",
    "knn.fit(X_sparse)"
   ]
  },
  {
   "cell_type": "code",
   "execution_count": null,
   "id": "d1389f6f",
   "metadata": {},
   "outputs": [],
   "source": [
    "for row_sparse in rows:\n",
    "    row_dense = svd.transform(row_sparse)"
   ]
  },
  {
   "cell_type": "code",
   "execution_count": null,
   "id": "ec31d1b8",
   "metadata": {
    "scrolled": true
   },
   "outputs": [],
   "source": []
  },
  {
   "cell_type": "code",
   "execution_count": 28,
   "id": "f2d9a499",
   "metadata": {},
   "outputs": [
    {
     "name": "stdout",
     "output_type": "stream",
     "text": [
      "================================================================================\n",
      "time:  0.30048704147338867\n",
      "111000  >>  [1594467  469296 1229119  878094  405221  825486 1200410 1594469  471943\n",
      " 1248440]\n",
      "================================================================================\n",
      "time:  0.28186464309692383\n",
      "520605  >>  [ 875707 1594255  472177  471632 1242108 1247583  470233  875735 1594665\n",
      "  875562]\n",
      "================================================================================\n",
      "time:  0.2835257053375244\n",
      "452856  >>  [1247821  471814  878451 1247953  471815  878452  878546 1589896  472048\n",
      "  875702]\n"
     ]
    }
   ],
   "source": [
    "import time\n",
    "\n",
    "# user to item\n",
    "def search_idx_from_user_id(user_id: int) -> int:\n",
    "    for idx in users_associated:\n",
    "        if users_associated[idx] == user_id:\n",
    "            return idx\n",
    "    \n",
    "def valid_user_to_item():\n",
    "    users = [111000, 520605, 452856]\n",
    "    \n",
    "    for user_id in users:\n",
    "        idx = search_idx_from_user_id(user_id)\n",
    "        \n",
    "        if not idx: continue\n",
    "\n",
    "        row = rows[idx]\n",
    "        t = time.time()\n",
    "        knn_result = knn.kneighbors(row, n_neighbors=500)\n",
    "        neighbors = knn_result[1]\n",
    "        scores = np.asarray(X_sparse.tocsr()[neighbors[0]].sum(axis=0)[0]).flatten()\n",
    "        top_indices = np.argsort(-scores)\n",
    "#         print(len(top_indices))\n",
    "        recommended_items = top_indices[:10]\n",
    "        print(\"=\" * 80)\n",
    "        print(\"time: \", time.time() - t)\n",
    "        print(user_id, \" >> \", recommended_items)            \n",
    "        \n",
    "       \n",
    "valid_user_to_item()"
   ]
  },
  {
   "cell_type": "code",
   "execution_count": null,
   "id": "ecd10812",
   "metadata": {},
   "outputs": [],
   "source": []
  },
  {
   "cell_type": "code",
   "execution_count": 26,
   "id": "570c93b0",
   "metadata": {},
   "outputs": [
    {
     "ename": "ValueError",
     "evalue": "operands could not be broadcast together with shapes (548426,500) (500,548426) ",
     "output_type": "error",
     "traceback": [
      "\u001b[0;31m---------------------------------------------------------------------------\u001b[0m",
      "\u001b[0;31mValueError\u001b[0m                                Traceback (most recent call last)",
      "\u001b[0;32m/tmp/ipykernel_26274/1482377560.py\u001b[0m in \u001b[0;36m<module>\u001b[0;34m\u001b[0m\n\u001b[1;32m      1\u001b[0m \u001b[0mX_dense_transposed\u001b[0m \u001b[0;34m=\u001b[0m \u001b[0mX_dense\u001b[0m\u001b[0;34m.\u001b[0m\u001b[0mtranspose\u001b[0m\u001b[0;34m(\u001b[0m\u001b[0;34m)\u001b[0m\u001b[0;34m\u001b[0m\u001b[0;34m\u001b[0m\u001b[0m\n\u001b[0;32m----> 2\u001b[0;31m \u001b[0mfit\u001b[0m \u001b[0;34m=\u001b[0m \u001b[0mX_dense\u001b[0m \u001b[0;34m*\u001b[0m \u001b[0mX_dense_transposed\u001b[0m \u001b[0;34m*\u001b[0m \u001b[0mX_dense\u001b[0m\u001b[0;34m\u001b[0m\u001b[0;34m\u001b[0m\u001b[0m\n\u001b[0m",
      "\u001b[0;31mValueError\u001b[0m: operands could not be broadcast together with shapes (548426,500) (500,548426) "
     ]
    }
   ],
   "source": [
    "X_dense_transposed = X_dense.transpose()\n",
    "fit = X_dense * X_dense_transposed * X_dense"
   ]
  },
  {
   "cell_type": "code",
   "execution_count": 61,
   "id": "76567786",
   "metadata": {},
   "outputs": [
    {
     "data": {
      "text/plain": [
       "(548426, 500)"
      ]
     },
     "execution_count": 61,
     "metadata": {},
     "output_type": "execute_result"
    }
   ],
   "source": [
    "fit.shape"
   ]
  },
  {
   "cell_type": "code",
   "execution_count": 70,
   "id": "202e24ac",
   "metadata": {},
   "outputs": [
    {
     "data": {
      "text/plain": [
       "173"
      ]
     },
     "execution_count": 70,
     "metadata": {},
     "output_type": "execute_result"
    }
   ],
   "source": [
    "fit[1520].argsort()[0]"
   ]
  },
  {
   "cell_type": "code",
   "execution_count": null,
   "id": "e8261cb7",
   "metadata": {},
   "outputs": [],
   "source": []
  },
  {
   "cell_type": "code",
   "execution_count": 20,
   "id": "0cae7613",
   "metadata": {},
   "outputs": [],
   "source": [
    "import faiss"
   ]
  },
  {
   "cell_type": "code",
   "execution_count": 71,
   "id": "390b9dc6",
   "metadata": {},
   "outputs": [
    {
     "ename": "RuntimeError",
     "evalue": "Error in void faiss::ProductQuantizer::set_derived_values() at /__w/faiss-wheels/faiss-wheels/faiss/faiss/impl/ProductQuantizer.cpp:184: Error: 'd % M == 0' failed: The dimension of the vector (d) should be a multiple of the number of subquantizers (M)",
     "output_type": "error",
     "traceback": [
      "\u001b[0;31m---------------------------------------------------------------------------\u001b[0m",
      "\u001b[0;31mRuntimeError\u001b[0m                              Traceback (most recent call last)",
      "\u001b[0;32m/tmp/ipykernel_22187/1482736783.py\u001b[0m in \u001b[0;36m<module>\u001b[0;34m\u001b[0m\n\u001b[0;32m----> 1\u001b[0;31m \u001b[0mindex\u001b[0m \u001b[0;34m=\u001b[0m \u001b[0mfaiss\u001b[0m\u001b[0;34m.\u001b[0m\u001b[0mindex_factory\u001b[0m\u001b[0;34m(\u001b[0m\u001b[0;36m500\u001b[0m\u001b[0;34m,\u001b[0m \u001b[0;34m\"IVF256,PQ32\"\u001b[0m\u001b[0;34m,\u001b[0m \u001b[0mfaiss\u001b[0m\u001b[0;34m.\u001b[0m\u001b[0mMETRIC_INNER_PRODUCT\u001b[0m\u001b[0;34m)\u001b[0m\u001b[0;34m\u001b[0m\u001b[0;34m\u001b[0m\u001b[0m\n\u001b[0m\u001b[1;32m      2\u001b[0m \u001b[0mindex\u001b[0m\u001b[0;34m.\u001b[0m\u001b[0mtrain\u001b[0m\u001b[0;34m(\u001b[0m\u001b[0mX_sparse\u001b[0m\u001b[0;34m)\u001b[0m\u001b[0;34m\u001b[0m\u001b[0;34m\u001b[0m\u001b[0m\n",
      "\u001b[0;32m~/.local/lib/python3.9/site-packages/faiss/swigfaiss.py\u001b[0m in \u001b[0;36mindex_factory\u001b[0;34m(*args)\u001b[0m\n\u001b[1;32m   5634\u001b[0m \u001b[0;34m\u001b[0m\u001b[0m\n\u001b[1;32m   5635\u001b[0m \u001b[0;32mdef\u001b[0m \u001b[0mindex_factory\u001b[0m\u001b[0;34m(\u001b[0m\u001b[0;34m*\u001b[0m\u001b[0margs\u001b[0m\u001b[0;34m)\u001b[0m\u001b[0;34m:\u001b[0m\u001b[0;34m\u001b[0m\u001b[0;34m\u001b[0m\u001b[0m\n\u001b[0;32m-> 5636\u001b[0;31m     \u001b[0;32mreturn\u001b[0m \u001b[0m_swigfaiss\u001b[0m\u001b[0;34m.\u001b[0m\u001b[0mindex_factory\u001b[0m\u001b[0;34m(\u001b[0m\u001b[0;34m*\u001b[0m\u001b[0margs\u001b[0m\u001b[0;34m)\u001b[0m\u001b[0;34m\u001b[0m\u001b[0;34m\u001b[0m\u001b[0m\n\u001b[0m\u001b[1;32m   5637\u001b[0m \u001b[0;34m\u001b[0m\u001b[0m\n\u001b[1;32m   5638\u001b[0m \u001b[0;32mdef\u001b[0m \u001b[0mindex_binary_factory\u001b[0m\u001b[0;34m(\u001b[0m\u001b[0md\u001b[0m\u001b[0;34m,\u001b[0m \u001b[0mdescription\u001b[0m\u001b[0;34m)\u001b[0m\u001b[0;34m:\u001b[0m\u001b[0;34m\u001b[0m\u001b[0;34m\u001b[0m\u001b[0m\n",
      "\u001b[0;31mRuntimeError\u001b[0m: Error in void faiss::ProductQuantizer::set_derived_values() at /__w/faiss-wheels/faiss-wheels/faiss/faiss/impl/ProductQuantizer.cpp:184: Error: 'd % M == 0' failed: The dimension of the vector (d) should be a multiple of the number of subquantizers (M)"
     ]
    }
   ],
   "source": [
    "index = faiss.index_factory(500, \"IVF256,PQ32\", faiss.METRIC_INNER_PRODUCT)\n",
    "index.train(X_sparse)"
   ]
  },
  {
   "cell_type": "code",
   "execution_count": 22,
   "id": "531c5512",
   "metadata": {},
   "outputs": [],
   "source": [
    "sparse.save_npz('sparse_matrix.npz', X_sparse)"
   ]
  },
  {
   "cell_type": "code",
   "execution_count": null,
   "id": "b595cda9",
   "metadata": {},
   "outputs": [],
   "source": []
  },
  {
   "cell_type": "code",
   "execution_count": null,
   "id": "b47d0e25",
   "metadata": {},
   "outputs": [],
   "source": []
  },
  {
   "cell_type": "code",
   "execution_count": null,
   "id": "0f90f22b",
   "metadata": {},
   "outputs": [],
   "source": []
  },
  {
   "cell_type": "code",
   "execution_count": null,
   "id": "26c15d67",
   "metadata": {},
   "outputs": [],
   "source": []
  },
  {
   "cell_type": "code",
   "execution_count": null,
   "id": "e56492f0",
   "metadata": {},
   "outputs": [],
   "source": []
  },
  {
   "cell_type": "code",
   "execution_count": null,
   "id": "5ed11c39",
   "metadata": {},
   "outputs": [],
   "source": []
  },
  {
   "cell_type": "code",
   "execution_count": null,
   "id": "c5902587",
   "metadata": {},
   "outputs": [],
   "source": [
    "\n",
    "    \n",
    "    "
   ]
  },
  {
   "cell_type": "code",
   "execution_count": null,
   "id": "d0b6d369",
   "metadata": {},
   "outputs": [],
   "source": []
  }
 ],
 "metadata": {
  "kernelspec": {
   "display_name": "Python 3 (ipykernel)",
   "language": "python",
   "name": "python3"
  },
  "language_info": {
   "codemirror_mode": {
    "name": "ipython",
    "version": 3
   },
   "file_extension": ".py",
   "mimetype": "text/x-python",
   "name": "python",
   "nbconvert_exporter": "python",
   "pygments_lexer": "ipython3",
   "version": "3.9.7"
  }
 },
 "nbformat": 4,
 "nbformat_minor": 5
}
